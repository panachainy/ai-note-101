{
 "cells": [
  {
   "cell_type": "markdown",
   "id": "c5c96983-d82d-4385-ab58-a45ae46adc3f",
   "metadata": {},
   "source": [
    "# LlamaIndex\n",
    "\n",
    "- [Hub](https://llamahub.ai/)\n",
    "- https://github.com/run-llama/llama_index"
   ]
  }
 ],
 "metadata": {
  "kernelspec": {
   "display_name": "Python 3 (ipykernel)",
   "language": "python",
   "name": "python3"
  },
  "language_info": {
   "codemirror_mode": {
    "name": "ipython",
    "version": 3
   },
   "file_extension": ".py",
   "mimetype": "text/x-python",
   "name": "python",
   "nbconvert_exporter": "python",
   "pygments_lexer": "ipython3",
   "version": "3.12.2"
  }
 },
 "nbformat": 4,
 "nbformat_minor": 5
}
