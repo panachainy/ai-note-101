{
 "cells": [
  {
   "cell_type": "code",
   "execution_count": null,
   "id": "d68bd2cc-0132-418b-aaa8-4980be6e96e3",
   "metadata": {},
   "outputs": [],
   "source": [
    "run: ollama run nxphi47/seallm-7b-v2:q4_0\n",
    "ref: https://sarinsuriyakoon.medium.com/use-ollama-to-run-seallm-model-southeast-asia-ff13045be6f7"
   ]
  }
 ],
 "metadata": {
  "kernelspec": {
   "display_name": "Python 3 (ipykernel)",
   "language": "python",
   "name": "python3"
  },
  "language_info": {
   "codemirror_mode": {
    "name": "ipython",
    "version": 3
   },
   "file_extension": ".py",
   "mimetype": "text/x-python",
   "name": "python",
   "nbconvert_exporter": "python",
   "pygments_lexer": "ipython3",
   "version": "3.9.12"
  }
 },
 "nbformat": 4,
 "nbformat_minor": 5
}
