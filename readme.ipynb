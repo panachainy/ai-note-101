{
 "cells": [
  {
   "cell_type": "markdown",
   "id": "7fdc634f-f576-48df-a657-d7071644c4f9",
   "metadata": {
    "editable": true,
    "slideshow": {
     "slide_type": ""
    },
    "tags": []
   },
   "source": [
    "# ai-note-101\n",
    "\n",
    "## TODO\n",
    "\n",
    "- Compare: https://www.youtube.com/watch?v=nze2ZFj7FCk"
   ]
  }
 ],
 "metadata": {
  "kernelspec": {
   "display_name": "Python 3 (ipykernel)",
   "language": "python",
   "name": "python3"
  },
  "language_info": {
   "codemirror_mode": {
    "name": "ipython",
    "version": 3
   },
   "file_extension": ".py",
   "mimetype": "text/x-python",
   "name": "python",
   "nbconvert_exporter": "python",
   "pygments_lexer": "ipython3",
   "version": "3.12.2"
  }
 },
 "nbformat": 4,
 "nbformat_minor": 5
}
