{
 "cells": [
  {
   "cell_type": "markdown",
   "id": "3c1dfbf5-f7db-4b14-b951-c320301aa8de",
   "metadata": {},
   "source": [
    "## Note\n",
    "\n",
    "https://microsoft.github.io/autogen/blog/2023/12/01/AutoGenStudio"
   ]
  },
  {
   "cell_type": "code",
   "execution_count": 1,
   "id": "d13eb41e-03f4-48fb-bd79-1a83c52b9c4b",
   "metadata": {
    "editable": true,
    "scrolled": true,
    "slideshow": {
     "slide_type": ""
    },
    "tags": []
   },
   "outputs": [
    {
     "name": "stdout",
     "output_type": "stream",
     "text": [
      "Collecting autogenstudio\n",
      "  Downloading autogenstudio-0.0.47-py3-none-any.whl (2.7 MB)\n",
      "\u001b[K     |████████████████████████████████| 2.7 MB 8.6 MB/s eta 0:00:01\n",
      "\u001b[?25hCollecting arxiv\n",
      "  Downloading arxiv-2.1.0-py3-none-any.whl (11 kB)\n",
      "Collecting typer\n",
      "  Using cached typer-0.9.0-py3-none-any.whl (45 kB)\n",
      "Requirement already satisfied: fastapi in /home/panachainy/anaconda3/lib/python3.9/site-packages (from autogenstudio) (0.94.0)\n",
      "Requirement already satisfied: websockets in /home/panachainy/anaconda3/lib/python3.9/site-packages (from autogenstudio) (11.0.3)\n",
      "Collecting pyautogen>=0.2.0\n",
      "  Downloading pyautogen-0.2.16-py3-none-any.whl (207 kB)\n",
      "\u001b[K     |████████████████████████████████| 207 kB 116.1 MB/s eta 0:00:01\n",
      "\u001b[?25hRequirement already satisfied: pydantic in /home/panachainy/anaconda3/lib/python3.9/site-packages (from autogenstudio) (2.6.2)\n",
      "Requirement already satisfied: uvicorn in /home/panachainy/anaconda3/lib/python3.9/site-packages (from autogenstudio) (0.23.2)\n",
      "Collecting openai>=1.3\n",
      "  Downloading openai-1.13.3-py3-none-any.whl (227 kB)\n",
      "\u001b[K     |████████████████████████████████| 227 kB 93.8 MB/s eta 0:00:01\n",
      "\u001b[?25hCollecting flaml\n",
      "  Downloading FLAML-2.1.1-py3-none-any.whl (295 kB)\n",
      "\u001b[K     |████████████████████████████████| 295 kB 133.4 MB/s eta 0:00:01\n",
      "\u001b[?25hCollecting tiktoken\n",
      "  Using cached tiktoken-0.6.0-cp39-cp39-manylinux_2_17_x86_64.manylinux2014_x86_64.whl (1.8 MB)\n",
      "Collecting diskcache\n",
      "  Downloading diskcache-5.6.3-py3-none-any.whl (45 kB)\n",
      "\u001b[K     |████████████████████████████████| 45 kB 11.0 MB/s  eta 0:00:01\n",
      "\u001b[?25hCollecting python-dotenv\n",
      "  Using cached python_dotenv-1.0.1-py3-none-any.whl (19 kB)\n",
      "Collecting docker\n",
      "  Downloading docker-7.0.0-py3-none-any.whl (147 kB)\n",
      "\u001b[K     |████████████████████████████████| 147 kB 107.5 MB/s eta 0:00:01\n",
      "\u001b[?25hCollecting termcolor\n",
      "  Downloading termcolor-2.4.0-py3-none-any.whl (7.7 kB)\n",
      "Requirement already satisfied: tqdm>4 in /home/panachainy/anaconda3/lib/python3.9/site-packages (from openai>=1.3->pyautogen>=0.2.0->autogenstudio) (4.66.2)\n",
      "Collecting distro<2,>=1.7.0\n",
      "  Using cached distro-1.9.0-py3-none-any.whl (20 kB)\n",
      "Requirement already satisfied: anyio<5,>=3.5.0 in /home/panachainy/anaconda3/lib/python3.9/site-packages (from openai>=1.3->pyautogen>=0.2.0->autogenstudio) (4.3.0)\n",
      "Requirement already satisfied: httpx<1,>=0.23.0 in /home/panachainy/anaconda3/lib/python3.9/site-packages (from openai>=1.3->pyautogen>=0.2.0->autogenstudio) (0.24.1)\n",
      "Requirement already satisfied: sniffio in /home/panachainy/anaconda3/lib/python3.9/site-packages (from openai>=1.3->pyautogen>=0.2.0->autogenstudio) (1.3.1)\n",
      "Requirement already satisfied: typing-extensions<5,>=4.7 in /home/panachainy/anaconda3/lib/python3.9/site-packages (from openai>=1.3->pyautogen>=0.2.0->autogenstudio) (4.10.0)\n",
      "Requirement already satisfied: exceptiongroup>=1.0.2 in /home/panachainy/anaconda3/lib/python3.9/site-packages (from anyio<5,>=3.5.0->openai>=1.3->pyautogen>=0.2.0->autogenstudio) (1.2.0)\n",
      "Requirement already satisfied: idna>=2.8 in /home/panachainy/anaconda3/lib/python3.9/site-packages (from anyio<5,>=3.5.0->openai>=1.3->pyautogen>=0.2.0->autogenstudio) (3.6)\n",
      "Requirement already satisfied: certifi in /home/panachainy/anaconda3/lib/python3.9/site-packages (from httpx<1,>=0.23.0->openai>=1.3->pyautogen>=0.2.0->autogenstudio) (2024.2.2)\n",
      "Requirement already satisfied: httpcore<0.18.0,>=0.15.0 in /home/panachainy/anaconda3/lib/python3.9/site-packages (from httpx<1,>=0.23.0->openai>=1.3->pyautogen>=0.2.0->autogenstudio) (0.15.0)\n",
      "Requirement already satisfied: h11<0.13,>=0.11 in /home/panachainy/anaconda3/lib/python3.9/site-packages (from httpcore<0.18.0,>=0.15.0->httpx<1,>=0.23.0->openai>=1.3->pyautogen>=0.2.0->autogenstudio) (0.12.0)\n",
      "Collecting anyio<5,>=3.5.0\n",
      "  Downloading anyio-3.7.1-py3-none-any.whl (80 kB)\n",
      "\u001b[K     |████████████████████████████████| 80 kB 30.7 MB/s  eta 0:00:01\n",
      "\u001b[?25hRequirement already satisfied: pydantic-core==2.16.3 in /home/panachainy/anaconda3/lib/python3.9/site-packages (from pydantic->autogenstudio) (2.16.3)\n",
      "Requirement already satisfied: annotated-types>=0.4.0 in /home/panachainy/anaconda3/lib/python3.9/site-packages (from pydantic->autogenstudio) (0.6.0)\n",
      "Collecting feedparser==6.0.10\n",
      "  Downloading feedparser-6.0.10-py3-none-any.whl (81 kB)\n",
      "\u001b[K     |████████████████████████████████| 81 kB 29.0 MB/s  eta 0:00:01\n",
      "\u001b[?25hRequirement already satisfied: requests==2.31.0 in /home/panachainy/anaconda3/lib/python3.9/site-packages (from arxiv->autogenstudio) (2.31.0)\n",
      "Collecting sgmllib3k\n",
      "  Downloading sgmllib3k-1.0.0.tar.gz (5.8 kB)\n",
      "Requirement already satisfied: urllib3<3,>=1.21.1 in /home/panachainy/anaconda3/lib/python3.9/site-packages (from requests==2.31.0->arxiv->autogenstudio) (2.2.1)\n",
      "Requirement already satisfied: charset-normalizer<4,>=2 in /home/panachainy/anaconda3/lib/python3.9/site-packages (from requests==2.31.0->arxiv->autogenstudio) (3.3.2)\n",
      "Requirement already satisfied: packaging>=14.0 in /home/panachainy/anaconda3/lib/python3.9/site-packages (from docker->pyautogen>=0.2.0->autogenstudio) (23.2)\n",
      "Collecting pydantic\n",
      "  Downloading pydantic-1.10.14-cp39-cp39-manylinux_2_17_x86_64.manylinux2014_x86_64.whl (3.2 MB)\n",
      "\u001b[K     |████████████████████████████████| 3.2 MB 48.0 MB/s eta 0:00:01\n",
      "\u001b[?25hRequirement already satisfied: starlette<0.27.0,>=0.26.0 in /home/panachainy/anaconda3/lib/python3.9/site-packages (from fastapi->autogenstudio) (0.26.1)\n",
      "Requirement already satisfied: NumPy>=1.17.0rc1 in /home/panachainy/anaconda3/lib/python3.9/site-packages (from flaml->pyautogen>=0.2.0->autogenstudio) (1.26.4)\n",
      "Requirement already satisfied: regex>=2022.1.18 in /home/panachainy/anaconda3/lib/python3.9/site-packages (from tiktoken->pyautogen>=0.2.0->autogenstudio) (2022.3.15)\n",
      "Requirement already satisfied: click<9.0.0,>=7.1.1 in /home/panachainy/anaconda3/lib/python3.9/site-packages (from typer->autogenstudio) (8.0.4)\n",
      "Building wheels for collected packages: sgmllib3k\n",
      "  Building wheel for sgmllib3k (setup.py) ... \u001b[?25ldone\n",
      "\u001b[?25h  Created wheel for sgmllib3k: filename=sgmllib3k-1.0.0-py3-none-any.whl size=6066 sha256=62ac85abadffbb30a8809c27ae759ec4fb415ac91541eed1bb1a6e215de370b9\n",
      "  Stored in directory: /home/panachainy/.cache/pip/wheels/65/7a/a7/78c287f64e401255dff4c13fdbc672fed5efbfd21c530114e1\n",
      "Successfully built sgmllib3k\n",
      "Installing collected packages: anyio, sgmllib3k, pydantic, distro, tiktoken, termcolor, python-dotenv, openai, flaml, feedparser, docker, diskcache, typer, pyautogen, arxiv, autogenstudio\n",
      "  Attempting uninstall: anyio\n",
      "    Found existing installation: anyio 4.3.0\n",
      "    Uninstalling anyio-4.3.0:\n",
      "      Successfully uninstalled anyio-4.3.0\n",
      "  Attempting uninstall: pydantic\n",
      "    Found existing installation: pydantic 2.6.2\n",
      "    Uninstalling pydantic-2.6.2:\n",
      "      Successfully uninstalled pydantic-2.6.2\n",
      "Successfully installed anyio-3.7.1 arxiv-2.1.0 autogenstudio-0.0.47 diskcache-5.6.3 distro-1.9.0 docker-7.0.0 feedparser-6.0.10 flaml-2.1.1 openai-1.13.3 pyautogen-0.2.16 pydantic-1.10.14 python-dotenv-1.0.1 sgmllib3k-1.0.0 termcolor-2.4.0 tiktoken-0.6.0 typer-0.9.0\n",
      "Note: you may need to restart the kernel to use updated packages.\n"
     ]
    }
   ],
   "source": [
    "pip install autogenstudio"
   ]
  },
  {
   "cell_type": "code",
   "execution_count": null,
   "id": "9841d385-1ad9-4368-9a60-47b46d7f8cd8",
   "metadata": {},
   "outputs": [],
   "source": [
    "export OPENAI_API_KEY=<your_api_key>"
   ]
  },
  {
   "cell_type": "code",
   "execution_count": null,
   "id": "3294095e-e032-4b47-8bd0-574f1d6f5f43",
   "metadata": {},
   "outputs": [],
   "source": [
    "llm_config = LLMConfig(\n",
    "    config_list=[{\n",
    "        \"model\": \"gpt-4\",\n",
    "        \"api_key\": \"<azure_api_key>\",\n",
    "        \"base_url\": \"<azure api base url>\",\n",
    "        \"api_type\": \"azure\",\n",
    "        \"api_version\": \"2024-02-15-preview\"\n",
    "    }],\n",
    "    temperature=0,\n",
    ")"
   ]
  },
  {
   "cell_type": "markdown",
   "id": "dfe20bb8-9976-44a4-9ea7-b649167620e0",
   "metadata": {},
   "source": [
    "## Installation"
   ]
  },
  {
   "cell_type": "code",
   "execution_count": 2,
   "id": "a18d409b-6675-4ccc-80e4-5b4044dd159a",
   "metadata": {},
   "outputs": [
    {
     "ename": "SyntaxError",
     "evalue": "invalid syntax (1824554393.py, line 2)",
     "output_type": "error",
     "traceback": [
      "\u001b[0;36m  Cell \u001b[0;32mIn[2], line 2\u001b[0;36m\u001b[0m\n\u001b[0;31m    pip install -e .\u001b[0m\n\u001b[0m        ^\u001b[0m\n\u001b[0;31mSyntaxError\u001b[0m\u001b[0;31m:\u001b[0m invalid syntax\n"
     ]
    }
   ],
   "source": [
    "# Clone the AutoGen Studio repository and install its Python dependencies\n",
    "pip install -e ."
   ]
  },
  {
   "cell_type": "code",
   "execution_count": null,
   "id": "a4ab51b5-e03f-48a0-8b8b-678b64355a6a",
   "metadata": {},
   "outputs": [],
   "source": [
    "# Navigate to the samples/apps/autogen-studio/frontend directory, install dependencies, and build the UI:\n",
    "npm install -g gatsby-cli\n",
    "npm install --global yarn\n",
    "yarn install\n",
    "yarn build"
   ]
  },
  {
   "cell_type": "code",
   "execution_count": null,
   "id": "9f06da82-6ba3-4b52-8e24-0b23bbc25929",
   "metadata": {},
   "outputs": [],
   "source": [
    "# run application\n",
    "autogenstudio ui --port 8081"
   ]
  }
 ],
 "metadata": {
  "kernelspec": {
   "display_name": "Python 3 (ipykernel)",
   "language": "python",
   "name": "python3"
  },
  "language_info": {
   "codemirror_mode": {
    "name": "ipython",
    "version": 3
   },
   "file_extension": ".py",
   "mimetype": "text/x-python",
   "name": "python",
   "nbconvert_exporter": "python",
   "pygments_lexer": "ipython3",
   "version": "3.9.12"
  }
 },
 "nbformat": 4,
 "nbformat_minor": 5
}
