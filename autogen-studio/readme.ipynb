{
 "cells": [
  {
   "cell_type": "markdown",
   "id": "3c1dfbf5-f7db-4b14-b951-c320301aa8de",
   "metadata": {},
   "source": [
    "## Note\n",
    "\n",
    "https://microsoft.github.io/autogen/blog/2023/12/01/AutoGenStudio"
   ]
  },
  {
   "cell_type": "code",
   "execution_count": 1,
   "id": "d13eb41e-03f4-48fb-bd79-1a83c52b9c4b",
   "metadata": {
    "editable": true,
    "scrolled": true,
    "slideshow": {
     "slide_type": ""
    },
    "tags": []
   },
   "outputs": [
    {
     "name": "stdout",
     "output_type": "stream",
     "text": [
      "Collecting autogenstudio\n",
      "  Downloading autogenstudio-0.0.47-py3-none-any.whl.metadata (11 kB)\n",
      "Collecting pydantic (from autogenstudio)\n",
      "  Using cached pydantic-2.6.3-py3-none-any.whl.metadata (84 kB)\n",
      "Collecting fastapi (from autogenstudio)\n",
      "  Using cached fastapi-0.110.0-py3-none-any.whl.metadata (25 kB)\n",
      "Collecting typer (from autogenstudio)\n",
      "  Using cached typer-0.9.0-py3-none-any.whl.metadata (14 kB)\n",
      "Collecting uvicorn (from autogenstudio)\n",
      "  Using cached uvicorn-0.27.1-py3-none-any.whl.metadata (6.3 kB)\n",
      "Collecting arxiv (from autogenstudio)\n",
      "  Downloading arxiv-2.1.0-py3-none-any.whl.metadata (6.1 kB)\n",
      "Collecting pyautogen>=0.2.0 (from autogenstudio)\n",
      "  Downloading pyautogen-0.2.16-py3-none-any.whl.metadata (18 kB)\n",
      "Requirement already satisfied: websockets in /home/linuxbrew/.linuxbrew/opt/python-lsp-server/libexec/lib/python3.12/site-packages (from autogenstudio) (12.0)\n",
      "Collecting diskcache (from pyautogen>=0.2.0->autogenstudio)\n",
      "  Downloading diskcache-5.6.3-py3-none-any.whl.metadata (20 kB)\n",
      "Collecting docker (from pyautogen>=0.2.0->autogenstudio)\n",
      "  Downloading docker-7.0.0-py3-none-any.whl.metadata (3.5 kB)\n",
      "Collecting flaml (from pyautogen>=0.2.0->autogenstudio)\n",
      "  Downloading FLAML-2.1.1-py3-none-any.whl.metadata (15 kB)\n",
      "Collecting openai>=1.3 (from pyautogen>=0.2.0->autogenstudio)\n",
      "  Downloading openai-1.13.3-py3-none-any.whl.metadata (18 kB)\n",
      "Collecting python-dotenv (from pyautogen>=0.2.0->autogenstudio)\n",
      "  Using cached python_dotenv-1.0.1-py3-none-any.whl.metadata (23 kB)\n",
      "Collecting termcolor (from pyautogen>=0.2.0->autogenstudio)\n",
      "  Downloading termcolor-2.4.0-py3-none-any.whl.metadata (6.1 kB)\n",
      "Collecting tiktoken (from pyautogen>=0.2.0->autogenstudio)\n",
      "  Downloading tiktoken-0.6.0-cp312-cp312-manylinux_2_17_x86_64.manylinux2014_x86_64.whl.metadata (6.6 kB)\n",
      "Collecting annotated-types>=0.4.0 (from pydantic->autogenstudio)\n",
      "  Using cached annotated_types-0.6.0-py3-none-any.whl.metadata (12 kB)\n",
      "Collecting pydantic-core==2.16.3 (from pydantic->autogenstudio)\n",
      "  Downloading pydantic_core-2.16.3-cp312-cp312-manylinux_2_17_x86_64.manylinux2014_x86_64.whl.metadata (6.5 kB)\n",
      "Collecting typing-extensions>=4.6.1 (from pydantic->autogenstudio)\n",
      "  Using cached typing_extensions-4.10.0-py3-none-any.whl.metadata (3.0 kB)\n",
      "Collecting feedparser==6.0.10 (from arxiv->autogenstudio)\n",
      "  Downloading feedparser-6.0.10-py3-none-any.whl.metadata (2.3 kB)\n",
      "Requirement already satisfied: requests==2.31.0 in /home/linuxbrew/.linuxbrew/opt/python-requests/lib/python3.12/site-packages (from arxiv->autogenstudio) (2.31.0)\n",
      "Collecting sgmllib3k (from feedparser==6.0.10->arxiv->autogenstudio)\n",
      "  Downloading sgmllib3k-1.0.0.tar.gz (5.8 kB)\n",
      "  Preparing metadata (setup.py) ... \u001b[?25ldone\n",
      "\u001b[?25hRequirement already satisfied: charset-normalizer<4,>=2 in /home/linuxbrew/.linuxbrew/opt/python-charset-normalizer/lib/python3.12/site-packages (from requests==2.31.0->arxiv->autogenstudio) (3.3.2)\n",
      "Requirement already satisfied: idna<4,>=2.5 in /home/linuxbrew/.linuxbrew/opt/python-idna/lib/python3.12/site-packages (from requests==2.31.0->arxiv->autogenstudio) (3.6)\n",
      "Requirement already satisfied: urllib3<3,>=1.21.1 in /home/linuxbrew/.linuxbrew/opt/python-urllib3/lib/python3.12/site-packages (from requests==2.31.0->arxiv->autogenstudio) (2.2.1)\n",
      "Requirement already satisfied: certifi>=2017.4.17 in /home/linuxbrew/.linuxbrew/opt/python-certifi/lib/python3.12/site-packages (from requests==2.31.0->arxiv->autogenstudio) (2024.2.2)\n",
      "Collecting starlette<0.37.0,>=0.36.3 (from fastapi->autogenstudio)\n",
      "  Using cached starlette-0.36.3-py3-none-any.whl.metadata (5.9 kB)\n",
      "Collecting click<9.0.0,>=7.1.1 (from typer->autogenstudio)\n",
      "  Using cached click-8.1.7-py3-none-any.whl.metadata (3.0 kB)\n",
      "Requirement already satisfied: h11>=0.8 in /home/linuxbrew/.linuxbrew/Cellar/jupyterlab/4.1.2/libexec/lib/python3.12/site-packages (from uvicorn->autogenstudio) (0.14.0)\n",
      "Requirement already satisfied: anyio<5,>=3.5.0 in /home/linuxbrew/.linuxbrew/Cellar/jupyterlab/4.1.2/libexec/lib/python3.12/site-packages (from openai>=1.3->pyautogen>=0.2.0->autogenstudio) (4.3.0)\n",
      "Collecting distro<2,>=1.7.0 (from openai>=1.3->pyautogen>=0.2.0->autogenstudio)\n",
      "  Downloading distro-1.9.0-py3-none-any.whl.metadata (6.8 kB)\n",
      "Requirement already satisfied: httpx<1,>=0.23.0 in /home/linuxbrew/.linuxbrew/Cellar/jupyterlab/4.1.2/libexec/lib/python3.12/site-packages (from openai>=1.3->pyautogen>=0.2.0->autogenstudio) (0.26.0)\n",
      "Requirement already satisfied: sniffio in /home/linuxbrew/.linuxbrew/Cellar/jupyterlab/4.1.2/libexec/lib/python3.12/site-packages (from openai>=1.3->pyautogen>=0.2.0->autogenstudio) (1.3.0)\n",
      "Collecting tqdm>4 (from openai>=1.3->pyautogen>=0.2.0->autogenstudio)\n",
      "  Using cached tqdm-4.66.2-py3-none-any.whl.metadata (57 kB)\n",
      "Requirement already satisfied: packaging>=14.0 in /home/linuxbrew/.linuxbrew/opt/python-packaging/lib/python3.12/site-packages (from docker->pyautogen>=0.2.0->autogenstudio) (23.2)\n",
      "Collecting NumPy>=1.17.0rc1 (from flaml->pyautogen>=0.2.0->autogenstudio)\n",
      "  Downloading numpy-1.26.4-cp312-cp312-manylinux_2_17_x86_64.manylinux2014_x86_64.whl.metadata (61 kB)\n",
      "\u001b[2K     \u001b[90m━━━━━━━━━━━━━━━━━━━━━━━━━━━━━━━━━━━━━━━━\u001b[0m \u001b[32m61.0/61.0 kB\u001b[0m \u001b[31m4.5 MB/s\u001b[0m eta \u001b[36m0:00:00\u001b[0m\n",
      "\u001b[?25hCollecting regex>=2022.1.18 (from tiktoken->pyautogen>=0.2.0->autogenstudio)\n",
      "  Downloading regex-2023.12.25-cp312-cp312-manylinux_2_17_x86_64.manylinux2014_x86_64.whl.metadata (40 kB)\n",
      "\u001b[2K     \u001b[90m━━━━━━━━━━━━━━━━━━━━━━━━━━━━━━━━━━━━━━━━\u001b[0m \u001b[32m40.9/40.9 kB\u001b[0m \u001b[31m9.8 MB/s\u001b[0m eta \u001b[36m0:00:00\u001b[0m\n",
      "\u001b[?25hRequirement already satisfied: httpcore==1.* in /home/linuxbrew/.linuxbrew/Cellar/jupyterlab/4.1.2/libexec/lib/python3.12/site-packages (from httpx<1,>=0.23.0->openai>=1.3->pyautogen>=0.2.0->autogenstudio) (1.0.3)\n",
      "Downloading autogenstudio-0.0.47-py3-none-any.whl (2.7 MB)\n",
      "\u001b[2K   \u001b[90m━━━━━━━━━━━━━━━━━━━━━━━━━━━━━━━━━━━━━━━━\u001b[0m \u001b[32m2.7/2.7 MB\u001b[0m \u001b[31m62.7 MB/s\u001b[0m eta \u001b[36m0:00:00\u001b[0ma \u001b[36m0:00:01\u001b[0m\n",
      "\u001b[?25hDownloading pyautogen-0.2.16-py3-none-any.whl (207 kB)\n",
      "\u001b[2K   \u001b[90m━━━━━━━━━━━━━━━━━━━━━━━━━━━━━━━━━━━━━━━━\u001b[0m \u001b[32m208.0/208.0 kB\u001b[0m \u001b[31m55.5 MB/s\u001b[0m eta \u001b[36m0:00:00\u001b[0m\n",
      "\u001b[?25hUsing cached pydantic-2.6.3-py3-none-any.whl (395 kB)\n",
      "Downloading pydantic_core-2.16.3-cp312-cp312-manylinux_2_17_x86_64.manylinux2014_x86_64.whl (2.2 MB)\n",
      "\u001b[2K   \u001b[90m━━━━━━━━━━━━━━━━━━━━━━━━━━━━━━━━━━━━━━━━\u001b[0m \u001b[32m2.2/2.2 MB\u001b[0m \u001b[31m59.5 MB/s\u001b[0m eta \u001b[36m0:00:00\u001b[0m00:01\u001b[0m\n",
      "\u001b[?25hDownloading arxiv-2.1.0-py3-none-any.whl (11 kB)\n",
      "Downloading feedparser-6.0.10-py3-none-any.whl (81 kB)\n",
      "\u001b[2K   \u001b[90m━━━━━━━━━━━━━━━━━━━━━━━━━━━━━━━━━━━━━━━━\u001b[0m \u001b[32m81.1/81.1 kB\u001b[0m \u001b[31m19.8 MB/s\u001b[0m eta \u001b[36m0:00:00\u001b[0m\n",
      "\u001b[?25hUsing cached fastapi-0.110.0-py3-none-any.whl (92 kB)\n",
      "Using cached typer-0.9.0-py3-none-any.whl (45 kB)\n",
      "Using cached uvicorn-0.27.1-py3-none-any.whl (60 kB)\n",
      "Using cached annotated_types-0.6.0-py3-none-any.whl (12 kB)\n",
      "Using cached click-8.1.7-py3-none-any.whl (97 kB)\n",
      "Downloading openai-1.13.3-py3-none-any.whl (227 kB)\n",
      "\u001b[2K   \u001b[90m━━━━━━━━━━━━━━━━━━━━━━━━━━━━━━━━━━━━━━━━\u001b[0m \u001b[32m227.4/227.4 kB\u001b[0m \u001b[31m57.0 MB/s\u001b[0m eta \u001b[36m0:00:00\u001b[0m\n",
      "\u001b[?25hUsing cached starlette-0.36.3-py3-none-any.whl (71 kB)\n",
      "Using cached typing_extensions-4.10.0-py3-none-any.whl (33 kB)\n",
      "Downloading diskcache-5.6.3-py3-none-any.whl (45 kB)\n",
      "\u001b[2K   \u001b[90m━━━━━━━━━━━━━━━━━━━━━━━━━━━━━━━━━━━━━━━━\u001b[0m \u001b[32m45.5/45.5 kB\u001b[0m \u001b[31m10.0 MB/s\u001b[0m eta \u001b[36m0:00:00\u001b[0m\n",
      "\u001b[?25hDownloading docker-7.0.0-py3-none-any.whl (147 kB)\n",
      "\u001b[2K   \u001b[90m━━━━━━━━━━━━━━━━━━━━━━━━━━━━━━━━━━━━━━━━\u001b[0m \u001b[32m147.6/147.6 kB\u001b[0m \u001b[31m35.3 MB/s\u001b[0m eta \u001b[36m0:00:00\u001b[0m\n",
      "\u001b[?25hDownloading FLAML-2.1.1-py3-none-any.whl (295 kB)\n",
      "\u001b[2K   \u001b[90m━━━━━━━━━━━━━━━━━━━━━━━━━━━━━━━━━━━━━━━━\u001b[0m \u001b[32m295.2/295.2 kB\u001b[0m \u001b[31m59.6 MB/s\u001b[0m eta \u001b[36m0:00:00\u001b[0m\n",
      "\u001b[?25hUsing cached python_dotenv-1.0.1-py3-none-any.whl (19 kB)\n",
      "Downloading termcolor-2.4.0-py3-none-any.whl (7.7 kB)\n",
      "Downloading tiktoken-0.6.0-cp312-cp312-manylinux_2_17_x86_64.manylinux2014_x86_64.whl (1.8 MB)\n",
      "\u001b[2K   \u001b[90m━━━━━━━━━━━━━━━━━━━━━━━━━━━━━━━━━━━━━━━━\u001b[0m \u001b[32m1.8/1.8 MB\u001b[0m \u001b[31m87.3 MB/s\u001b[0m eta \u001b[36m0:00:00\u001b[0m\n",
      "\u001b[?25hDownloading distro-1.9.0-py3-none-any.whl (20 kB)\n",
      "Downloading numpy-1.26.4-cp312-cp312-manylinux_2_17_x86_64.manylinux2014_x86_64.whl (18.0 MB)\n",
      "\u001b[2K   \u001b[90m━━━━━━━━━━━━━━━━━━━━━━━━━━━━━━━━━━━━━━━━\u001b[0m \u001b[32m18.0/18.0 MB\u001b[0m \u001b[31m83.6 MB/s\u001b[0m eta \u001b[36m0:00:00\u001b[0m:00:01\u001b[0m00:01\u001b[0m\n",
      "\u001b[?25hDownloading regex-2023.12.25-cp312-cp312-manylinux_2_17_x86_64.manylinux2014_x86_64.whl (789 kB)\n",
      "\u001b[2K   \u001b[90m━━━━━━━━━━━━━━━━━━━━━━━━━━━━━━━━━━━━━━━\u001b[0m \u001b[32m789.1/789.1 kB\u001b[0m \u001b[31m107.0 MB/s\u001b[0m eta \u001b[36m0:00:00\u001b[0m\n",
      "\u001b[?25hDownloading tqdm-4.66.2-py3-none-any.whl (78 kB)\n",
      "\u001b[2K   \u001b[90m━━━━━━━━━━━━━━━━━━━━━━━━━━━━━━━━━━━━━━━━\u001b[0m \u001b[32m78.3/78.3 kB\u001b[0m \u001b[31m23.3 MB/s\u001b[0m eta \u001b[36m0:00:00\u001b[0m\n",
      "\u001b[?25hBuilding wheels for collected packages: sgmllib3k\n",
      "  Building wheel for sgmllib3k (setup.py) ... \u001b[?25ldone\n",
      "\u001b[?25h  Created wheel for sgmllib3k: filename=sgmllib3k-1.0.0-py3-none-any.whl size=6048 sha256=d1eadef8c84c7bf364eda46a0fa0a22d028dce112af93fd5732cb3bddfcc5fea\n",
      "  Stored in directory: /home/panachainy/.cache/pip/wheels/03/f5/1a/23761066dac1d0e8e683e5fdb27e12de53209d05a4a37e6246\n",
      "Successfully built sgmllib3k\n",
      "Installing collected packages: sgmllib3k, typing-extensions, tqdm, termcolor, regex, python-dotenv, NumPy, feedparser, distro, diskcache, click, annotated-types, uvicorn, typer, tiktoken, starlette, pydantic-core, flaml, docker, arxiv, pydantic, openai, fastapi, pyautogen, autogenstudio\n",
      "Successfully installed NumPy-1.26.4 annotated-types-0.6.0 arxiv-2.1.0 autogenstudio-0.0.47 click-8.1.7 diskcache-5.6.3 distro-1.9.0 docker-7.0.0 fastapi-0.110.0 feedparser-6.0.10 flaml-2.1.1 openai-1.13.3 pyautogen-0.2.16 pydantic-2.6.3 pydantic-core-2.16.3 python-dotenv-1.0.1 regex-2023.12.25 sgmllib3k-1.0.0 starlette-0.36.3 termcolor-2.4.0 tiktoken-0.6.0 tqdm-4.66.2 typer-0.9.0 typing-extensions-4.10.0 uvicorn-0.27.1\n",
      "Note: you may need to restart the kernel to use updated packages.\n"
     ]
    }
   ],
   "source": [
    "pip install autogenstudio"
   ]
  },
  {
   "cell_type": "code",
   "execution_count": null,
   "id": "9841d385-1ad9-4368-9a60-47b46d7f8cd8",
   "metadata": {},
   "outputs": [],
   "source": [
    "export OPENAI_API_KEY=<your_api_key>"
   ]
  },
  {
   "cell_type": "code",
   "execution_count": null,
   "id": "3294095e-e032-4b47-8bd0-574f1d6f5f43",
   "metadata": {},
   "outputs": [],
   "source": [
    "llm_config = LLMConfig(\n",
    "    config_list=[{\n",
    "        \"model\": \"gpt-4\",\n",
    "        \"api_key\": \"<azure_api_key>\",\n",
    "        \"base_url\": \"<azure api base url>\",\n",
    "        \"api_type\": \"azure\",\n",
    "        \"api_version\": \"2024-02-15-preview\"\n",
    "    }],\n",
    "    temperature=0,\n",
    ")"
   ]
  },
  {
   "cell_type": "markdown",
   "id": "dfe20bb8-9976-44a4-9ea7-b649167620e0",
   "metadata": {},
   "source": [
    "## Installation"
   ]
  },
  {
   "cell_type": "code",
   "execution_count": null,
   "id": "a18d409b-6675-4ccc-80e4-5b4044dd159a",
   "metadata": {},
   "outputs": [],
   "source": [
    "# Clone the AutoGen Studio repository and install its Python dependencies\n",
    "pip install -e ."
   ]
  },
  {
   "cell_type": "code",
   "execution_count": null,
   "id": "a4ab51b5-e03f-48a0-8b8b-678b64355a6a",
   "metadata": {},
   "outputs": [],
   "source": [
    "# Navigate to the samples/apps/autogen-studio/frontend directory, install dependencies, and build the UI:\n",
    "npm install -g gatsby-cli\n",
    "npm install --global yarn\n",
    "yarn install\n",
    "yarn build"
   ]
  },
  {
   "cell_type": "code",
   "execution_count": null,
   "id": "9f06da82-6ba3-4b52-8e24-0b23bbc25929",
   "metadata": {},
   "outputs": [],
   "source": [
    "# run application\n",
    "autogenstudio ui --port 8081"
   ]
  }
 ],
 "metadata": {
  "kernelspec": {
   "display_name": "Python 3 (ipykernel)",
   "language": "python",
   "name": "python3"
  },
  "language_info": {
   "codemirror_mode": {
    "name": "ipython",
    "version": 3
   },
   "file_extension": ".py",
   "mimetype": "text/x-python",
   "name": "python",
   "nbconvert_exporter": "python",
   "pygments_lexer": "ipython3",
   "version": "3.12.2"
  }
 },
 "nbformat": 4,
 "nbformat_minor": 5
}
