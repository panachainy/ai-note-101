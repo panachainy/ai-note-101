{
 "cells": [
  {
   "cell_type": "markdown",
   "id": "d82f9b03-edb4-4351-8ca6-2f7f66b2ec3d",
   "metadata": {},
   "source": [
    "# AnythingLLM\n",
    "\n",
    "## With Ollama\n",
    "\n",
    "- Intro https://www.youtube.com/watch?v=f95rGD9trL0\n",
    "    - https://docs.useanything.com/feature-overview/llm-selection/ollama\n",
    "\n",
    "- model use Ollama https://ollama.com/library/llama2 << ดีมาก\n",
    "\n",
    "```bash\n",
    "curl -X POST http://localhost:11434/api/generate -d '{\n",
    "  \"model\": \"llama2\",\n",
    "  \"prompt\":\"Why is the sky blue?\"\n",
    " }'\n",
    "```\n",
    "\n",
    "conclusion:\n",
    "- not work on upload document (not sure why)\n",
    "- worked on chat with default model (not fetch extramodel ex. llama2)\n",
    "- worked on query mode (but not have doc)\n",
    "- not work on fetch web (not sure why)\n",
    "\n",
    "## With LM Studio\n",
    "\n",
    "- LM Studio use only CPU I don't know why\n",
    "- integrated worked on Anything LLM"
   ]
  }
 ],
 "metadata": {
  "kernelspec": {
   "display_name": "Python 3 (ipykernel)",
   "language": "python",
   "name": "python3"
  },
  "language_info": {
   "codemirror_mode": {
    "name": "ipython",
    "version": 3
   },
   "file_extension": ".py",
   "mimetype": "text/x-python",
   "name": "python",
   "nbconvert_exporter": "python",
   "pygments_lexer": "ipython3",
   "version": "3.12.2"
  }
 },
 "nbformat": 4,
 "nbformat_minor": 5
}
