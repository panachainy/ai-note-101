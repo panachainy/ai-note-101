{
 "cells": [
  {
   "cell_type": "markdown",
   "id": "7fdc634f-f576-48df-a657-d7071644c4f9",
   "metadata": {
    "editable": true,
    "slideshow": {
     "slide_type": ""
    },
    "tags": []
   },
   "source": [
    "# TODO\n",
    "\n",
    "- Compare: https://www.youtube.com/watch?v=nze2ZFj7FCk\n",
    "\n",
    "<!--  -->"
   ]
  },
  {
   "cell_type": "markdown",
   "id": "9a6ae5b6-27c1-4859-896c-5aeeb40e9adf",
   "metadata": {},
   "source": [
    "# LlamaIndex\n",
    "\n",
    "- [Hub](https://llamahub.ai/)\n",
    "- https://github.com/run-llama/llama_index\n",
    "\n"
   ]
  },
  {
   "cell_type": "markdown",
   "id": "8a866740-9648-4178-bc50-21f49dd7146b",
   "metadata": {},
   "source": [
    "# AnythingLLM\n",
    "\n",
    "## With Ollama\n",
    "\n",
    "- Intro https://www.youtube.com/watch?v=f95rGD9trL0\n",
    "    - https://docs.useanything.com/feature-overview/llm-selection/ollama\n",
    "\n",
    "- model use Ollama https://ollama.com/library/llama2 << ดีมาก\n",
    "\n",
    "```bash\n",
    "curl -X POST http://localhost:11434/api/generate -d '{\n",
    "  \"model\": \"llama2\",\n",
    "  \"prompt\":\"Why is the sky blue?\"\n",
    " }'\n",
    "```\n",
    "\n",
    "conclusion:\n",
    "- not work on upload document (not sure why)\n",
    "- worked on chat with default model (not fetch extramodel ex. llama2)\n",
    "- worked on query mode (but not have doc)\n",
    "- not work on fetch web (not sure why)\n",
    "\n",
    "## With LM Studio\n",
    "\n",
    "- LM Studio use only CPU I don't know why\n",
    "- integrated worked on Anything LLM\n",
    "- \n",
    "\n"
   ]
  },
  {
   "cell_type": "markdown",
   "id": "5434626a-2c33-4c84-9ee7-d69f39c4870c",
   "metadata": {},
   "source": [
    "# ai-note-101\n",
    "\n",
    "## Comfyui\n",
    "\n",
    "Workflow shared by the community\n",
    "\n",
    "- [openart](https://openart.ai/workflows/home?workflowSort=featured)\n",
    "- [comfyworkflows](https://comfyworkflows.com/)\n",
    "\n",
    "### Video animate\n",
    "\n",
    "[REF](https://www.youtube.com/watch?v=HbfDjAMFi6w)\n",
    "\n",
    "- https://github.com/ltdrdata/ComfyUI-Impact-Pack\n",
    "- https://github.com/Fannovel16/comfyui_controlnet_aux\n",
    "- https://github.com/Kosinkadink/ComfyUI-Advanced-ControlNet\n",
    "- https://github.com/ltdrdata/ComfyUI-Inspire-Pack\n",
    "- https://github.com/Kosinkadink/ComfyUI-AnimateDiff-Evolved\n",
    "- https://github.com/Kosinkadink/ComfyUI-VideoHelperSuite\n",
    "- https://github.com/mcmonkeyprojects/sd-dynamic-thresholding\n",
    "\n",
    "## Comfyui API\n",
    "\n",
    "- https://www.youtube.com/watch?v=va8Jkc7o9d4\n",
    "\n",
    "## Stable diffusion\n",
    "\n",
    "## Stable diffusion API\n",
    "\n",
    "## Models\n",
    "\n",
    "- [Anime](https://civitai.com/models/7240/meinamix)\n",
    "![alt text](docs/images/image-1.png)\n",
    "\n",
    "- [Cartoon-ToonYou](https://civitai.com/models/30240/toonyou)\n",
    "![alt text](docs/images/image.png)\n",
    "\n",
    "- [cartoonish](https://civitai.com/models/18569/cartoonish)\n",
    "![alt text](docs/images/image-2.png)\n",
    "\n",
    "- [Disney Pixar Cartoon Type A](https://civitai.com/models/65203/disney-pixar-cartoon-type-a)\n",
    "![alt text](docs/images/image-3.png)\n",
    "\n",
    "- [Disney Pixar Cartoon type B](https://civitai.com/models/75650/disney-pixar-cartoon-type-b)\n",
    "![alt text](docs/images/image-4.png)\n",
    "\n",
    "- [majicMIX realistic](https://civitai.com/models/43331?modelVersionId=176425)\n",
    "![alt text](docs/images/image-5.png)\n",
    "\n",
    "## chat\n",
    "\n",
    "- https://huggingface.co/meta-llama/Llama-2-7b-chat-hf/tree/main\n",
    "- https://github.com/dataprofessor/llama2\n",
    "- https://ollama.com/library/llama2\n"
   ]
  }
 ],
 "metadata": {
  "kernelspec": {
   "display_name": "Python 3 (ipykernel)",
   "language": "python",
   "name": "python3"
  },
  "language_info": {
   "codemirror_mode": {
    "name": "ipython",
    "version": 3
   },
   "file_extension": ".py",
   "mimetype": "text/x-python",
   "name": "python",
   "nbconvert_exporter": "python",
   "pygments_lexer": "ipython3",
   "version": "3.12.2"
  }
 },
 "nbformat": 4,
 "nbformat_minor": 5
}
